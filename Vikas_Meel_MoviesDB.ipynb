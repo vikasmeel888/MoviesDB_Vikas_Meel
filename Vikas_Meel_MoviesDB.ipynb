{
  "nbformat": 4,
  "nbformat_minor": 0,
  "metadata": {
    "colab": {
      "name": "Vikas_Meel_MoviesDB.ipynb",
      "provenance": [],
      "collapsed_sections": []
    },
    "kernelspec": {
      "name": "python3",
      "display_name": "Python 3"
    },
    "language_info": {
      "name": "python"
    }
  },
  "cells": [
    {
      "cell_type": "markdown",
      "metadata": {
        "id": "-HTYY3N9eqCA"
      },
      "source": [
        "Importing SQLite3 Module and Connecting to the Database and Creating a Database"
      ]
    },
    {
      "cell_type": "code",
      "metadata": {
        "id": "MbEE4jLpd2Rz"
      },
      "source": [
        "import sqlite3\n",
        "connection = sqlite3.connect(\"movies.db\")"
      ],
      "execution_count": 1,
      "outputs": []
    },
    {
      "cell_type": "markdown",
      "metadata": {
        "id": "9j4ifdoLe7QY"
      },
      "source": [
        "Creating a cursor to execute queries and Creating a Table"
      ]
    },
    {
      "cell_type": "code",
      "metadata": {
        "colab": {
          "base_uri": "https://localhost:8080/"
        },
        "id": "Il3zez4pfBsP",
        "outputId": "5a13d183-fa01-4314-c2c4-104054e0be86"
      },
      "source": [
        "cursor = connection.cursor()\n",
        "cursor.execute(\" CREATE TABLE movies (name TEXT, actor TEXT, actress TEXT, director TEXT, year INTEGER)\")\n"
      ],
      "execution_count": 2,
      "outputs": [
        {
          "output_type": "execute_result",
          "data": {
            "text/plain": [
              "<sqlite3.Cursor at 0x7f086c7a5490>"
            ]
          },
          "metadata": {},
          "execution_count": 2
        }
      ]
    },
    {
      "cell_type": "markdown",
      "metadata": {
        "id": "7SPgZMQFfvv4"
      },
      "source": [
        "Inserting Values into the Movies Table"
      ]
    },
    {
      "cell_type": "code",
      "metadata": {
        "colab": {
          "base_uri": "https://localhost:8080/"
        },
        "id": "FUPVCxfHf4Ce",
        "outputId": "629a7d42-3cb1-4171-fb88-c827a9edc278"
      },
      "source": [
        "cursor.execute(\"INSERT INTO movies VALUES('Roohi','Rajkummar Rao','Janhvi Kapoor','Hardik Mehta',2021)\")\n",
        "cursor.execute(\"INSERT INTO movies VALUES('Stree', 'Rajkummar Rao','Shradhdha Kapoor','Amar Kaushik',2018)\")\n",
        "cursor.execute(\"INSERT INTO movies VALUES('3-idiots','Aamir Khan','Kareena Kapoor','Rajkumar Hirani',2009)\")\n",
        "cursor.execute(\"INSERT INTO movies VALUES('Andhadhun','Ayushmann Khurrana','Radhika Apte','Sriram Raghavan',2018)\")\n",
        "cursor.execute(\"INSERT INTO movies VALUES('Dream Girl','Ayushmann Khurrana','Nushrratt Bharuccha','Raaj Shaandilyaa',2019)\")"
      ],
      "execution_count": 3,
      "outputs": [
        {
          "output_type": "execute_result",
          "data": {
            "text/plain": [
              "<sqlite3.Cursor at 0x7f086c7a5490>"
            ]
          },
          "metadata": {},
          "execution_count": 3
        }
      ]
    },
    {
      "cell_type": "markdown",
      "metadata": {
        "id": "sVaUShL6h650"
      },
      "source": [
        "Reading Data from the Database and Simple SELECT statement to query all rows from the Movies table"
      ]
    },
    {
      "cell_type": "code",
      "metadata": {
        "colab": {
          "base_uri": "https://localhost:8080/"
        },
        "id": "1o5oMNZFiCu1",
        "outputId": "a35b6d9c-d2f5-4865-a467-6715abb47bdb"
      },
      "source": [
        "rows = cursor.execute(\"SELECT * FROM movies\").fetchall()\n",
        "for i in rows:\n",
        "  name,actor,actress,director,year = i\n",
        "  print(name+\"\\t\"+actor+\"\\t\"+actress+\"\\t\"+director+\"\\t\"+str(year))\n"
      ],
      "execution_count": 4,
      "outputs": [
        {
          "output_type": "stream",
          "name": "stdout",
          "text": [
            "Roohi\tRajkummar Rao\tJanhvi Kapoor\tHardik Mehta\t2021\n",
            "Stree\tRajkummar Rao\tShradhdha Kapoor\tAmar Kaushik\t2018\n",
            "3-idiots\tAamir Khan\tKareena Kapoor\tRajkumar Hirani\t2009\n",
            "Andhadhun\tAyushmann Khurrana\tRadhika Apte\tSriram Raghavan\t2018\n",
            "Dream Girl\tAyushmann Khurrana\tNushrratt Bharuccha\tRaaj Shaandilyaa\t2019\n"
          ]
        }
      ]
    },
    {
      "cell_type": "markdown",
      "metadata": {
        "id": "3gLuX7Snj9aF"
      },
      "source": [
        "Query with parameter like actor name to select movies based on the actor's name."
      ]
    },
    {
      "cell_type": "code",
      "metadata": {
        "colab": {
          "base_uri": "https://localhost:8080/"
        },
        "id": "0np83ygnkOTB",
        "outputId": "7b2ae905-8d11-4f9f-bb6b-db5286bb4f4f"
      },
      "source": [
        "actor_rows = cursor.execute(\"SELECT * FROM movies WHERE actor='Rajkummar Rao'\").fetchall()\n",
        "for i in actor_rows:\n",
        "  name,actor,actress,director,year = i\n",
        "  print(name+\"\\t\"+actor+\"\\t\"+actress+\"\\t\"+director+\"\\t\"+str(year))"
      ],
      "execution_count": 5,
      "outputs": [
        {
          "output_type": "stream",
          "name": "stdout",
          "text": [
            "Roohi\tRajkummar Rao\tJanhvi Kapoor\tHardik Mehta\t2021\n",
            "Stree\tRajkummar Rao\tShradhdha Kapoor\tAmar Kaushik\t2018\n"
          ]
        }
      ]
    }
  ]
}